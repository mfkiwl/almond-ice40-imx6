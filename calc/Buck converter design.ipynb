{
 "cells": [
  {
   "cell_type": "code",
   "execution_count": 1,
   "metadata": {
    "collapsed": true
   },
   "outputs": [],
   "source": [
    "import matplotlib.pyplot as plt\n",
    "%matplotlib notebook\n",
    "from ipywidgets import widgets\n",
    "import IPython.display as display"
   ]
  },
  {
   "cell_type": "code",
   "execution_count": 19,
   "metadata": {},
   "outputs": [
    {
     "data": {
      "application/vnd.jupyter.widget-view+json": {
       "model_id": "cce984aafbf84125864a50206ac4b6e5"
      }
     },
     "metadata": {},
     "output_type": "display_data"
    },
    {
     "data": {
      "application/vnd.jupyter.widget-view+json": {
       "model_id": "7e5097437d394678b12c293c79ac46ca"
      }
     },
     "metadata": {},
     "output_type": "display_data"
    },
    {
     "data": {
      "application/vnd.jupyter.widget-view+json": {
       "model_id": "a066d98aff0b4987bbeb5396f3b8405e"
      }
     },
     "metadata": {},
     "output_type": "display_data"
    },
    {
     "data": {
      "application/vnd.jupyter.widget-view+json": {
       "model_id": "bc462aca8f7a43b7b8fc6d6a4b516cc1"
      }
     },
     "metadata": {},
     "output_type": "display_data"
    },
    {
     "data": {
      "application/vnd.jupyter.widget-view+json": {
       "model_id": "01dbf5b1bfe54edb9bd6b65fcff3b435"
      }
     },
     "metadata": {},
     "output_type": "display_data"
    },
    {
     "data": {
      "application/vnd.jupyter.widget-view+json": {
       "model_id": "c358fa57c50f48d194a29935474587d3"
      }
     },
     "metadata": {},
     "output_type": "display_data"
    },
    {
     "data": {
      "application/vnd.jupyter.widget-view+json": {
       "model_id": "b6ef5a7262b1492183249eebe7768bd4"
      }
     },
     "metadata": {},
     "output_type": "display_data"
    },
    {
     "data": {
      "application/vnd.jupyter.widget-view+json": {
       "model_id": "02bae989f08a478097545fc9508ac5c4"
      }
     },
     "metadata": {},
     "output_type": "display_data"
    },
    {
     "data": {
      "application/vnd.jupyter.widget-view+json": {
       "model_id": "e0bc5cdb9ef14eeeb60f8a319c803f2f"
      }
     },
     "metadata": {},
     "output_type": "display_data"
    },
    {
     "data": {
      "application/vnd.jupyter.widget-view+json": {
       "model_id": "511a81a40bd6469594d8e6062e29b01e"
      }
     },
     "metadata": {},
     "output_type": "display_data"
    },
    {
     "data": {
      "application/vnd.jupyter.widget-view+json": {
       "model_id": "b5dcd36eede14f89ba57c626c2eae907"
      }
     },
     "metadata": {},
     "output_type": "display_data"
    },
    {
     "data": {
      "application/vnd.jupyter.widget-view+json": {
       "model_id": "a5e2996fa2324bddb1f112bc40d32f40"
      }
     },
     "metadata": {},
     "output_type": "display_data"
    },
    {
     "data": {
      "application/vnd.jupyter.widget-view+json": {
       "model_id": "014c1ffde1b841f9a4123073f3e3289f"
      }
     },
     "metadata": {},
     "output_type": "display_data"
    },
    {
     "data": {
      "application/vnd.jupyter.widget-view+json": {
       "model_id": "b057ca7db989410188707ed1b668d09a"
      }
     },
     "metadata": {},
     "output_type": "display_data"
    },
    {
     "data": {
      "application/vnd.jupyter.widget-view+json": {
       "model_id": "97eafde7e1b64f47bb2ba6101fe1f690"
      }
     },
     "metadata": {},
     "output_type": "display_data"
    }
   ],
   "source": [
    "#efficiency = 0.9\n",
    "#vin = 5.0\n",
    "#vout = 3.3\n",
    "#iout = 1.4\n",
    "#freq = 1e6\n",
    "#vovershoot = vout * 0.05\n",
    "#vripple = vout * 0.01\n",
    "\n",
    "vin = widgets.FloatText(value=5.0, description='Vin (V)')\n",
    "vout = widgets.FloatText(value=3.3, description='Vout (V)')\n",
    "iout = widgets.FloatText(value=1.4, description='Iout (A)')\n",
    "freq = widgets.FloatText(value=1e6, description='Freq (Hz)')\n",
    "efficiency = widgets.FloatText(value=0.9, description='Efficiency')\n",
    "istep = widgets.FloatText(value=1.4, description='Load step (A)')\n",
    "vin_overshoot = widgets.FloatText(value=100e-3, description='Vin Overshoot (V)')\n",
    "vin_ripple = widgets.FloatText(value=30e-3, description='Vin Ripple (V)')\n",
    "vout_overshoot = widgets.FloatText(value=100e-3, description='Vout Overshoot (V)')\n",
    "vout_ripple = widgets.FloatText(value=30e-3, description='Vout Ripple (V)')\n",
    "out1 = widgets.Output()\n",
    "L = widgets.FloatText(value=2.2e-6, description='L (H)')\n",
    "out2 = widgets.Output()\n",
    "R_L = widgets.FloatText(value=102e-3, description='L DCR (Ohm)')\n",
    "out3 = widgets.Output()\n",
    "\n",
    "def update(sender):\n",
    "    out1.clear_output()\n",
    "    with out1:\n",
    "        duty = vout.value/vin.value/efficiency.value\n",
    "        ton = duty/freq.value\n",
    "        print('duty cycle: %.2f' % duty)\n",
    "    \n",
    "        ripple_fact = 0.4\n",
    "        L_min = vin.value / (4 * freq.value * ripple_fact * vout.value)\n",
    "        print('suggested L_min: %.2fuH' % (L_min * 1e6))\n",
    "\n",
    "    out2.clear_output()\n",
    "    with out2:\n",
    "        i_L = (vin.value-vout.value)/L.value*ton\n",
    "        print('ripple current: %.2gA' % i_L)\n",
    "        \n",
    "        ipeak = iout.value + i_L/2\n",
    "        print('peak current: %.2fA' % ipeak)\n",
    "        iout_rms = (iout.value**2 + i_L**2/12)**0.5\n",
    "        print('rms output current: %.2fA' % iout_rms)\n",
    "        \n",
    "        print('rated inductor current: %.1fA' % (ipeak * 1.2))\n",
    "        \n",
    "    out3.clear_output()\n",
    "    with out3:\n",
    "        P_L = iout_rms**2 * R_L.value\n",
    "        print('copper loss: %.2fW, %.0f%%' % (P_L, P_L/(iout_rms*vout.value)*100))\n",
    "        print('')\n",
    "        \n",
    "        # from http://www.ti.com/lit/an/slyt670/slyt670.pdf\n",
    "        Cin_min_ripple = duty*(1-duty)*iout.value/(vin_ripple.value*freq.value)\n",
    "        print('min. input capacitance for %.2gV ripple voltage: %.1fuF' % (vin_ripple.value, Cin_min_ripple * 1e6))\n",
    "        vin_ripple_real = duty*(1-duty)*iout.value/(Cin_min_ripple*freq.value)\n",
    "        print('input ripple voltage at min. capacitance: %.2fV' % vin_ripple_real)\n",
    "    \n",
    "        control_bw = 20e3 #20kHz control BW - XXX depends on previous stage\n",
    "        trise = 1/(control_bw*4)\n",
    "        Cin_min_bulk = istep.value/2*duty*trise/vin_overshoot.value - Cin_min_ripple\n",
    "        print('min. bulk input capacitance for %.2fV transient response to %.1fA load step: %.1fuF' % (vin_overshoot.value, istep.value, Cin_min_bulk * 1e6))\n",
    "        Cin_ESR = vin_overshoot.value/(iout.value * duty)\n",
    "        print('max. bulk ESR: %.2fOhm' % Cin_ESR)\n",
    "        ibulk_rms = 1/(2*3**0.5)*vin_ripple_real/Cin_ESR\n",
    "        print('min. bulk ripple current rating: %.2fA' % ibulk_rms)\n",
    "        #Cout_min = max(Cout_min_ripple, Cout_min_transient)\n",
    "        #print('min input capacitance: %.1fuF' % (Cin_min * 1e6))\n",
    "        print('')\n",
    "\n",
    "        # from http://www.onsemi.com/pub/Collateral/AND9135-D.PDF\n",
    "        Cout_min_transient = L.value * istep.value**2/((vout.value + vout_overshoot.value)**2 - vout.value**2)\n",
    "        print('min. output capacitance for %.2fV transient response to %.1fA load step: %.1fuF' % (vout_overshoot.value, istep.value, Cout_min_transient * 1e6))\n",
    "        Cout_min_ripple = i_L / (8 * freq.value * vout_ripple.value)\n",
    "        print('min. output capacitance for %.2gV ripple voltage: %.1fuF' % (vout_ripple.value, Cout_min_ripple * 1e6))\n",
    "        Cout_min = max(Cout_min_ripple, Cout_min_transient)\n",
    "        print('output transient overshoot at min. capacitance: %.2fV'% ((L.value*istep.value**2/Cout_min + vout.value**2)**0.5-vout.value))\n",
    "        print('output ripple voltage at min. capacitance: %.2fV' % (i_L/(8*freq.value*Cout_min)))\n",
    "        print('min output capacitance: %.1fuF' % (Cout_min * 1e6))\n",
    "\n",
    "for w in (vin, vout, iout, freq, efficiency, istep, vin_overshoot, vin_ripple, vout_overshoot, vout_ripple, L, R_L):\n",
    "    w.observe(update)\n",
    "   \n",
    "display.display(vin, vout, iout, freq, efficiency, istep, vin_overshoot, vin_ripple, vout_overshoot, vout_ripple, out1, L, out2, R_L, out3)\n",
    "update(None)"
   ]
  }
 ],
 "metadata": {
  "kernelspec": {
   "display_name": "Python 3",
   "language": "python",
   "name": "python3"
  },
  "language_info": {
   "codemirror_mode": {
    "name": "ipython",
    "version": 3
   },
   "file_extension": ".py",
   "mimetype": "text/x-python",
   "name": "python",
   "nbconvert_exporter": "python",
   "pygments_lexer": "ipython3",
   "version": "3.6.4"
  }
 },
 "nbformat": 4,
 "nbformat_minor": 2
}
