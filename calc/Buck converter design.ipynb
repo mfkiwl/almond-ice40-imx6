{
 "cells": [
  {
   "cell_type": "code",
   "execution_count": 1,
   "metadata": {
    "collapsed": true
   },
   "outputs": [],
   "source": [
    "import matplotlib.pyplot as plt\n",
    "%matplotlib notebook\n",
    "from ipywidgets import widgets\n",
    "import IPython.display as display"
   ]
  },
  {
   "cell_type": "code",
   "execution_count": 18,
   "metadata": {},
   "outputs": [
    {
     "data": {
      "application/vnd.jupyter.widget-view+json": {
       "model_id": "113d7612f6404de18362942ccd0cd806"
      }
     },
     "metadata": {},
     "output_type": "display_data"
    },
    {
     "data": {
      "application/vnd.jupyter.widget-view+json": {
       "model_id": "673615b21de5445da1a3670d944ecb87"
      }
     },
     "metadata": {},
     "output_type": "display_data"
    },
    {
     "data": {
      "application/vnd.jupyter.widget-view+json": {
       "model_id": "052fb4d1938f4fa186f4729a427d876e"
      }
     },
     "metadata": {},
     "output_type": "display_data"
    },
    {
     "data": {
      "application/vnd.jupyter.widget-view+json": {
       "model_id": "7e40fb7b9cbf44098b171b307d40dc08"
      }
     },
     "metadata": {},
     "output_type": "display_data"
    },
    {
     "data": {
      "application/vnd.jupyter.widget-view+json": {
       "model_id": "a2a9432990f949c984cb28bd8ea21be6"
      }
     },
     "metadata": {},
     "output_type": "display_data"
    },
    {
     "data": {
      "application/vnd.jupyter.widget-view+json": {
       "model_id": "5e47b6e7ed434147a1daa9d9d254e07b"
      }
     },
     "metadata": {},
     "output_type": "display_data"
    },
    {
     "data": {
      "application/vnd.jupyter.widget-view+json": {
       "model_id": "9dcc663273d14bf19016a49854e53924"
      }
     },
     "metadata": {},
     "output_type": "display_data"
    },
    {
     "data": {
      "application/vnd.jupyter.widget-view+json": {
       "model_id": "a23a4935e8c34337a4fe5214a097dda5"
      }
     },
     "metadata": {},
     "output_type": "display_data"
    },
    {
     "data": {
      "application/vnd.jupyter.widget-view+json": {
       "model_id": "b806bb34ea8c4793b1a846df4e84432f"
      }
     },
     "metadata": {},
     "output_type": "display_data"
    },
    {
     "data": {
      "application/vnd.jupyter.widget-view+json": {
       "model_id": "3df4b78458184111adec05f2a5da6da3"
      }
     },
     "metadata": {},
     "output_type": "display_data"
    },
    {
     "data": {
      "application/vnd.jupyter.widget-view+json": {
       "model_id": "e5d00ee3993643628f4ec7e8923dbc95"
      }
     },
     "metadata": {},
     "output_type": "display_data"
    },
    {
     "data": {
      "application/vnd.jupyter.widget-view+json": {
       "model_id": "8cf5d9e68e834d01a8a29c3e04bfcc64"
      }
     },
     "metadata": {},
     "output_type": "display_data"
    },
    {
     "data": {
      "application/vnd.jupyter.widget-view+json": {
       "model_id": "500cda5b7e89488cac9e7d190bf451ff"
      }
     },
     "metadata": {},
     "output_type": "display_data"
    },
    {
     "data": {
      "application/vnd.jupyter.widget-view+json": {
       "model_id": "e730aac6fbc74e75a5e7a415d9ac4704"
      }
     },
     "metadata": {},
     "output_type": "display_data"
    }
   ],
   "source": [
    "#efficiency = 0.9\n",
    "#vin = 5.0\n",
    "#vout = 3.3\n",
    "#iout = 1.4\n",
    "#freq = 1e6\n",
    "#vovershoot = vout * 0.05\n",
    "#vripple = vout * 0.01\n",
    "\n",
    "vin = widgets.FloatText(value=5.0, description='Vin (V)')\n",
    "vout = widgets.FloatText(value=3.3, description='Vout (V)')\n",
    "iout = widgets.FloatText(value=1.4, description='Iout (A)')\n",
    "freq = widgets.FloatText(value=1e6, description='Freq (Hz)')\n",
    "efficiency = widgets.FloatText(value=0.9, description='Efficiency')\n",
    "istep = widgets.FloatText(value=1.4, description='Load step (A)')\n",
    "vin_overshoot = widgets.FloatText(value=100e-3, description='Vin Overshoot (V)')\n",
    "vin_ripple = widgets.FloatText(value=30e-3, description='Vin Ripple (V)')\n",
    "vout_overshoot = widgets.FloatText(value=100e-3, description='Vout Overshoot (V)')\n",
    "vout_ripple = widgets.FloatText(value=30e-3, description='Vout Ripple (V)')\n",
    "out1 = widgets.Output()\n",
    "L = widgets.FloatText(value=2.2e-6, description='L (H)')\n",
    "out2 = widgets.Output()\n",
    "R_L = widgets.FloatText(value=102e-3, description='L DCR (Ohm)')\n",
    "out3 = widgets.Output()\n",
    "\n",
    "def update(sender):\n",
    "    out1.clear_output()\n",
    "    with out1:\n",
    "        duty = vout.value/vin.value/efficiency.value\n",
    "        ton = duty/freq.value\n",
    "        print('duty cycle: %.2f' % duty)\n",
    "    \n",
    "        ripple_fact = 0.4\n",
    "        L_min = vin.value / (4 * freq.value * ripple_fact * vout.value)\n",
    "        print('suggested L_min: %.2fuH' % (L_min * 1e6))\n",
    "\n",
    "    out2.clear_output()\n",
    "    with out2:\n",
    "        i_L = (vin.value-vout.value)/L.value*ton\n",
    "        print('ripple current: %.2gA' % i_L)\n",
    "        \n",
    "        ipeak = iout.value + i_L/2\n",
    "        print('peak current: %.2fA' % ipeak)\n",
    "        iout_rms = (iout.value**2 + i_L**2/12)**0.5\n",
    "        print('rms output current: %.2fA' % iout_rms)\n",
    "        \n",
    "        print('rated inductor current: %.1fA' % (ipeak * 1.2))\n",
    "        \n",
    "    out3.clear_output()\n",
    "    with out3:\n",
    "        P_L = iout_rms**2 * R_L.value\n",
    "        print('copper loss: %.2fW, %.0f%%' % (P_L, P_L/(iout_rms*vout.value)*100))\n",
    "        print('')\n",
    "        \n",
    "        # from http://www.ti.com/lit/an/slyt670/slyt670.pdf\n",
    "        Cin_min_ripple = duty*(1-duty)*iout.value/(vin_ripple.value*freq.value)\n",
    "        print('min. input capacitance for %.2gV ripple voltage: %.1fuF' % (vin_ripple.value, Cin_min_ripple * 1e6))\n",
    "        vin_ripple_real = duty*(1-duty)*iout.value/(Cin_min_ripple*freq.value)\n",
    "        print('input ripple voltage at min. capacitance: %.2fV' % vin_ripple_real)\n",
    "    \n",
    "        control_bw = 20e3 #20kHz control BW - XXX depends on previous stage\n",
    "        trise = 1/(control_bw*4)\n",
    "        Cin_min_bulk = istep.value/2*duty*trise/vin_overshoot.value - Cin_min_ripple\n",
    "        print('min. bulk input capacitance for %.2fV transient response to %.1fA load step: %.1fuF' % (vin_overshoot.value, istep.value, Cin_min_bulk * 1e6))\n",
    "        Cin_ESR = vin_overshoot.value/(iout.value * duty)\n",
    "        print('max. bulk ESR: %.2fOhm' % Cin_ESR)\n",
    "        ibulk_rms = 1/(2*3**0.5)*vin_ripple_real/Cin_ESR\n",
    "        print('min. bulk ripple current rating: %.2fA' % ibulk_rms)\n",
    "        #Cout_min = max(Cout_min_ripple, Cout_min_transient)\n",
    "        #print('min input capacitance: %.1fuF' % (Cin_min * 1e6))\n",
    "        print('')\n",
    "\n",
    "        # from http://www.onsemi.com/pub/Collateral/AND9135-D.PDF\n",
    "        Cout_min_transient = L.value * istep.value**2/((vout.value + vout_overshoot.value)**2 - vout.value**2)\n",
    "        print('min. output capacitance for %.2fV transient response to %.1fA load step: %.1fuF' % (vout_overshoot.value, istep.value, Cout_min_transient * 1e6))\n",
    "        Cout_min_ripple = i_L / (8 * freq.value * vout_ripple.value)\n",
    "        print('min. output capacitance for %.2gV ripple voltage: %.1fuF' % (vout_ripple.value, Cout_min_ripple * 1e6))\n",
    "        Cout_min = max(Cout_min_ripple, Cout_min_transient)\n",
    "        print('output transient overshoot at min. capacitance: %.2fV'% ((L.value*istep.value**2/Cout_min + vout.value**2)**0.5-vout.value))\n",
    "        print('output ripple voltage at min. capacitance: %.2fV' % (i_L/(8*freq.value*Cout_min)))\n",
    "        print('min output capacitance: %.1fuF' % (Cout_min * 1e6))\n",
    "\n",
    "for w in (vin, vout, iout, freq, efficiency, vin_overshoot, vin_ripple, vout_overshoot, vout_ripple, L, R_L):\n",
    "    w.observe(update)\n",
    "   \n",
    "display.display(vin, vout, iout, freq, efficiency, vin_overshoot, vin_ripple, vout_overshoot, vout_ripple, out1, L, out2, R_L, out3)\n",
    "update(None)"
   ]
  }
 ],
 "metadata": {
  "kernelspec": {
   "display_name": "Python 3",
   "language": "python",
   "name": "python3"
  },
  "language_info": {
   "codemirror_mode": {
    "name": "ipython",
    "version": 3
   },
   "file_extension": ".py",
   "mimetype": "text/x-python",
   "name": "python",
   "nbconvert_exporter": "python",
   "pygments_lexer": "ipython3",
   "version": "3.6.4"
  }
 },
 "nbformat": 4,
 "nbformat_minor": 2
}
