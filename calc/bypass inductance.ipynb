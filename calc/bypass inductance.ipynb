{
 "cells": [
  {
   "attachments": {
    "image.png": {
     "image/png": "[encoded data removed]"
    }
   },
   "cell_type": "markdown",
   "metadata": {},
   "source": [
    "According to [Howard Johnson](https://m.eet.com/media/1140355/19806-89618.pdf):\n",
    "\n",
    "![image.png](attachment:image.png)\n",
    "\n",
    "\\begin{eqnarray}\n",
    "\\mu_0 & = & 4\\pi 10^{-7} \\tfrac{H}{m} \\\\\n",
    "L_2 & = & \\frac{\\mu_0}{\\pi} H_2 \\mathrm{ln}\\frac{2S_2}{D} \\\\\n",
    "L_1 & = & \\frac{\\mu_0}{2\\pi} H_1\\!^2 \\left(\\frac{2}{D} - \\frac{1}{S_1}\\right)\n",
    "\\end{eqnarray}\n",
    "\n",
    "* [Stackup info](https://www.elecrow.com/download/Elecrow%204%20layer%20PCB%20stock.pdf)\n",
    "* [TDK](https://product.tdk.com/info/tvcl/ecm/mlcc_commercial_general_c0402_ecm.pdf) 1005 MLCC has 0.28nF inductance"
   ]
  },
  {
   "cell_type": "code",
   "execution_count": 70,
   "metadata": {},
   "outputs": [],
   "source": [
    "import math\n",
    "\n",
    "Lcap = 0.28e-9\n",
    "\n",
    "mu0 = 4*math.pi * 1e-7\n",
    "def L2():\n",
    "    return mu0/math.pi * h2 * math.log(2*s2/d)\n",
    "def L1():\n",
    "    return mu0/(2*math.pi) * h1**2 * (2/d - 1/s1)\n",
    "def display_impedance():\n",
    "    impedance = L1() + L2() + Lcap\n",
    "    print(\"via drill %(d).2fmm, %(pcb).2fmm PCB, total impedance = %(impedance).2fnH\" % {\n",
    "        'd': d/1e-3,\n",
    "        'pcb': (h2 + 0.5e-3)/1e-3,\n",
    "        'impedance': (impedance)/1e-9\n",
    "    })\n",
    "    return impedance"
   ]
  },
  {
   "cell_type": "code",
   "execution_count": 72,
   "metadata": {
    "scrolled": true
   },
   "outputs": [
    {
     "name": "stdout",
     "output_type": "stream",
     "text": [
      "via drill 0.30mm, 1.00mm PCB, total impedance = 0.83nH\n"
     ]
    }
   ],
   "source": [
    "h1 = 195e-6\n",
    "h2 = 500e-6\n",
    "s1 = 0.5e-3\n",
    "s2 = 2e-3\n",
    "d=0.3e-3\n",
    "display_impedance();"
   ]
  },
  {
   "cell_type": "code",
   "execution_count": 74,
   "metadata": {},
   "outputs": [
    {
     "name": "stdout",
     "output_type": "stream",
     "text": [
      "via drill 0.40mm, 1.00mm PCB, total impedance = 0.76nH\n"
     ]
    }
   ],
   "source": [
    "d=0.4e-3\n",
    "Ltotal = display_impedance();"
   ]
  },
  {
   "cell_type": "code",
   "execution_count": 75,
   "metadata": {},
   "outputs": [
    {
     "name": "stdout",
     "output_type": "stream",
     "text": [
      "via drill 0.30mm, 1.60mm PCB, total impedance = 1.46nH\n"
     ]
    }
   ],
   "source": [
    "d=0.3e-3\n",
    "h2 = 1.100e-3\n",
    "display_impedance();"
   ]
  },
  {
   "cell_type": "code",
   "execution_count": 76,
   "metadata": {},
   "outputs": [
    {
     "name": "stdout",
     "output_type": "stream",
     "text": [
      "via drill 0.40mm, 1.60mm PCB, total impedance = 1.32nH\n"
     ]
    }
   ],
   "source": [
    "d=0.4e-3\n",
    "display_impedance();"
   ]
  },
  {
   "cell_type": "markdown",
   "metadata": {},
   "source": [
    "# Inductance requirements of DDR3\n",
    "\n",
    "\\begin{eqnarray}\n",
    "I_{ac} & = & C \\frac{\\mathrm{d}V}{\\mathrm{d}t} \\\\\n",
    "SR_{se} = \\frac{\\mathrm{d}V}{\\mathrm{d}t} & = & 5\\tfrac{V}{ns} & \\text{(max)} \\\\\n",
    "C & = & 5.0\\,\\mathrm{pF} + 2.5\\,\\mathrm{pF} & \\text{(25mm trace len)} \\\\\n",
    "t_{sr,se} & = & \\frac{0.2 V_{DDQ}}{SR_{se}} \\\\\n",
    "L_{max} & = & \\frac{V_{drop}\\mathrm{d}t}{N\\mathrm{d}i}\n",
    "\\end{eqnarray}"
   ]
  },
  {
   "cell_type": "code",
   "execution_count": 92,
   "metadata": {
    "collapsed": true
   },
   "outputs": [],
   "source": [
    "sr = 2e9"
   ]
  },
  {
   "cell_type": "code",
   "execution_count": 105,
   "metadata": {},
   "outputs": [
    {
     "data": {
      "text/plain": [
       "0.015"
      ]
     },
     "execution_count": 105,
     "metadata": {},
     "output_type": "execute_result"
    }
   ],
   "source": [
    "i_ac = 7.5e-12 * sr; i_ac"
   ]
  },
  {
   "cell_type": "code",
   "execution_count": 106,
   "metadata": {},
   "outputs": [
    {
     "data": {
      "text/plain": [
       "1.3999999999999998e-10"
      ]
     },
     "execution_count": 106,
     "metadata": {},
     "output_type": "execute_result"
    }
   ],
   "source": [
    "t_sr = 0.2*1.4 / sr; t_sr\n",
    "#t_sr = 450e-12"
   ]
  },
  {
   "cell_type": "code",
   "execution_count": 112,
   "metadata": {
    "collapsed": true
   },
   "outputs": [],
   "source": [
    "Nsignal = (16+4)/2"
   ]
  },
  {
   "cell_type": "code",
   "execution_count": 113,
   "metadata": {},
   "outputs": [
    {
     "name": "stdout",
     "output_type": "stream",
     "text": [
      "0.093nH\n"
     ]
    }
   ],
   "source": [
    "l_max = 0.1 * t_sr / (Nsignal * i_ac)\n",
    "print(\"%0.3fnH\" % (l_max/1e-9))"
   ]
  },
  {
   "cell_type": "code",
   "execution_count": 114,
   "metadata": {},
   "outputs": [
    {
     "data": {
      "text/plain": [
       "8.178557342130102"
      ]
     },
     "execution_count": 114,
     "metadata": {},
     "output_type": "execute_result"
    }
   ],
   "source": [
    "Ncap = Ltotal / l_max; Ncap"
   ]
  }
 ],
 "metadata": {
  "kernelspec": {
   "display_name": "Python 3",
   "language": "python",
   "name": "python3"
  },
  "language_info": {
   "codemirror_mode": {
    "name": "ipython",
    "version": 3
   },
   "file_extension": ".py",
   "mimetype": "text/x-python",
   "name": "python",
   "nbconvert_exporter": "python",
   "pygments_lexer": "ipython3",
   "version": "3.6.3"
  }
 },
 "nbformat": 4,
 "nbformat_minor": 2
}
